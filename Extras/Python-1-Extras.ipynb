{
 "cells": [
  {
   "cell_type": "markdown",
   "metadata": {},
   "source": [
    "# Python I: Extras\n",
    "\n",
    "This extra material is intended for self study between the [Python I](../Python1/Python-1.html) and [Python II](../Python2/Python-2.html) workshops.  It should help you review and expand on the topics covered in Python I.\n",
    "\n",
    "This material may also be a useful reference if you're already familiar with these ideas and want to learn about Python's syntax.\n",
    "\n",
    "We'll do additional review at the start of Python II.\n",
    "\n",
    "## Contents\n",
    "\n",
    "* [Review](#Review)\n",
    "\n",
    "* [Data objects](#Data-Objects)\n",
    "    + [Dictionaries](#Dictionaries)\n",
    "\n",
    "    + [Comprehensions](#List-and-Dictionary-Comprehensions)\n",
    "\n",
    "* [Combining conditionals](#Combining-Conditionals)\n",
    "\n",
    "* [Learn More](#Want-to-learn-more?)"
   ]
  },
  {
   "cell_type": "markdown",
   "metadata": {},
   "source": [
    "## Review \n",
    "\n",
    "* Numeric types (`int`,`float`): \n",
    "```\n",
    "my_int=4\n",
    "```\n",
    "* Strings (`str`): \n",
    "```\n",
    "my_string=\"cat\"\n",
    "```\n",
    "* Lists (`list`): \n",
    "```\n",
    "my_list=[my_int,my_string]\n",
    "```\n",
    "* For loops:\n",
    "```\n",
    "for k in range(10):\n",
    "    print(k)\n",
    "```\n",
    "* Conditionals\n",
    "```\n",
    "if my_string==\"cat\":\n",
    "    print(\"This is a cat!\")\n",
    "else:\n",
    "    print(\"This is not a cat!\")\n",
    "```\n",
    "\n",
    "<center>\n",
    "<h3>Review Exercises</h3>\n",
    "</center>\n",
    "\n",
    "1. Create a list, `exlist`, with at least two of each data type below:\n",
    "    * Numeric (Integer)\n",
    "    * String\n",
    "    * List\n",
    "    \n",
    "2. Create empty lists and write a loop to sort `exlist` into three different lists: \n",
    "    * `numlist`\n",
    "    * `strlist`\n",
    "    * `listlist` \n",
    "    \n",
    "    by each element's type.  Remember that the `type` function can tell you what type each object is.\n",
    "    \n",
    "3. Adapt your loop to work with the `test` loop below."
   ]
  },
  {
   "cell_type": "code",
   "execution_count": 1,
   "metadata": {},
   "outputs": [],
   "source": [
    "test=[\"basin\",78,[\"obtainable\",\"public\"],89,90,[],[10,20,30,40,50],\"orange\"]"
   ]
  },
  {
   "cell_type": "markdown",
   "metadata": {},
   "source": [
    "4. Which element in the list `test` has the longest length?  (Check length with the `len` function.)"
   ]
  },
  {
   "cell_type": "markdown",
   "metadata": {},
   "source": [
    "## Data Objects\n",
    "\n",
    "In Python I, we introduced a number of important data structures in Python: string and numeric types, as well as lists.  We used indexing to specify particular parts of the sequential objects - strings and lists.  Here we introduce dictionaries, which provide a useful alternative format for some types of information.  List and dictionary comprehensions provide a more succinct way to generate lists and dictionaries. \n",
    "\n",
    "### Dictionaries\n",
    "\n",
    "Dictionaries provide a \"mapping object\"; instead of an index, they used named \"keys\" to organized data.  Dictionaries also benefit from faster performance than lists in most cases, due to their use of <a href=\"https://en.wikipedia.org/wiki/Hash_table\">hash tables</a>.  \n",
    "\n",
    "A dictionary is defined as follows:"
   ]
  },
  {
   "cell_type": "code",
   "execution_count": 2,
   "metadata": {},
   "outputs": [
    {
     "data": {
      "text/plain": [
       "dict"
      ]
     },
     "execution_count": 2,
     "metadata": {},
     "output_type": "execute_result"
    }
   ],
   "source": [
    "class_dict = {\"course\":\"Python II\",\"location\":\"Davis Library\",\"time\":\"4pm\"}\n",
    "type(class_dict)"
   ]
  },
  {
   "cell_type": "markdown",
   "metadata": {},
   "source": [
    "In this case, `\"course\"`, `\"location\"`, and `\"time\"` serve as the \"keys\" for this dictionary.  Keys play a similar role to the indices we use for lists (or strings).  We can print a particular value by placing its key in the same square brackets `[]` used by list indices."
   ]
  },
  {
   "cell_type": "code",
   "execution_count": 3,
   "metadata": {},
   "outputs": [
    {
     "name": "stdout",
     "output_type": "stream",
     "text": [
      "Davis Library\n"
     ]
    }
   ],
   "source": [
    "print(class_dict[\"location\"])"
   ]
  },
  {
   "cell_type": "markdown",
   "metadata": {},
   "source": [
    "A numeric index **will not** work with dictionaries.\n",
    "\n",
    "We can also generate a list of all of the keys for a dictionary using the `.keys()` method. "
   ]
  },
  {
   "cell_type": "code",
   "execution_count": 4,
   "metadata": {},
   "outputs": [
    {
     "name": "stdout",
     "output_type": "stream",
     "text": [
      "dict_keys(['course', 'location', 'time'])\n"
     ]
    }
   ],
   "source": [
    "print(class_dict.keys())"
   ]
  },
  {
   "cell_type": "markdown",
   "metadata": {},
   "source": [
    "### List and Dictionary Comprehensions\n",
    "\n",
    "Python provides some shortcuts to generating lists and dictionaries, especially those that you might (now) generate with a list.  For example, let's generate a list of the square of each number from 1 to 15."
   ]
  },
  {
   "cell_type": "code",
   "execution_count": 5,
   "metadata": {},
   "outputs": [
    {
     "name": "stdout",
     "output_type": "stream",
     "text": [
      "[1, 4, 9, 16, 25, 36, 49, 64, 81, 100, 121, 144, 169, 196, 225]\n"
     ]
    }
   ],
   "source": [
    "squares=[]\n",
    "for n in range(1,16):\n",
    "    squares.append(n**2)\n",
    "print(squares)"
   ]
  },
  {
   "cell_type": "markdown",
   "metadata": {},
   "source": [
    "Using a \"comprehension\", we can shorten this to a single line, effectively bringing the loop inside the `[]` used to define the list."
   ]
  },
  {
   "cell_type": "code",
   "execution_count": 6,
   "metadata": {},
   "outputs": [
    {
     "name": "stdout",
     "output_type": "stream",
     "text": [
      "[1, 4, 9, 16, 25, 36, 49, 64, 81, 100, 121, 144, 169, 196, 225]\n"
     ]
    }
   ],
   "source": [
    "squares=[x**2 for x in range(1,16)]\n",
    "print(squares)"
   ]
  },
  {
   "cell_type": "markdown",
   "metadata": {},
   "source": [
    "The same general format holds for defining dictionaries."
   ]
  },
  {
   "cell_type": "code",
   "execution_count": 7,
   "metadata": {},
   "outputs": [
    {
     "name": "stdout",
     "output_type": "stream",
     "text": [
      "{1: 1, 2: 4, 3: 9, 4: 16, 5: 25, 6: 36, 7: 49, 8: 64, 9: 81, 10: 100, 11: 121, 12: 144, 13: 169, 14: 196, 15: 225}\n"
     ]
    }
   ],
   "source": [
    "squaresdict={k:k**2 for k in range(1,16)}\n",
    "print(squaresdict)"
   ]
  },
  {
   "cell_type": "markdown",
   "metadata": {},
   "source": [
    "We can include conditional statements at the end of the comprehension to build more flexible comprehensions."
   ]
  },
  {
   "cell_type": "code",
   "execution_count": 8,
   "metadata": {},
   "outputs": [
    {
     "name": "stdout",
     "output_type": "stream",
     "text": [
      "['the', 'quick', 'brown', 'fox', 'jumped', 'over', 'the', 'lazy', 'dog']\n",
      "['quick', 'brown', 'jumped']\n"
     ]
    }
   ],
   "source": [
    "sentence=\"the quick brown fox jumped over the lazy dog\"\n",
    "sentence=sentence.split(\" \") #splits the string into a list with each space\n",
    "print(sentence)\n",
    "print([w for w in sentence if len(w)>4])"
   ]
  },
  {
   "cell_type": "markdown",
   "metadata": {},
   "source": [
    "<center>\n",
    "<h3>Exercises</h3>\n",
    "</center>\n",
    "\n",
    "1. Write a list comprehension to create a list of just the values (i.e. the squares) from `squaresdict`.\n",
    "\n",
    "2. Write a list comprehension with `os.listdir` to list all of the files in a directory that have a particular extension (e.g. end with .txt).  Try it against a folder in your computer with at least one such file."
   ]
  },
  {
   "cell_type": "markdown",
   "metadata": {},
   "source": [
    "## Combining Conditionals\n",
    "As our needs become more complex, we can combine conditions using Boolean Algebra operators `and` and `or`."
   ]
  },
  {
   "cell_type": "code",
   "execution_count": 9,
   "metadata": {},
   "outputs": [
    {
     "data": {
      "text/plain": [
       "False"
      ]
     },
     "execution_count": 9,
     "metadata": {},
     "output_type": "execute_result"
    }
   ],
   "source": [
    "num=5\n",
    "letter=\"a\"\n",
    "(letter in [\"a\",\"b\",\"c\"]) and num<3 "
   ]
  },
  {
   "cell_type": "markdown",
   "metadata": {},
   "source": [
    "This is equivalent to using Boolean values directly:"
   ]
  },
  {
   "cell_type": "code",
   "execution_count": 10,
   "metadata": {},
   "outputs": [
    {
     "data": {
      "text/plain": [
       "False"
      ]
     },
     "execution_count": 10,
     "metadata": {},
     "output_type": "execute_result"
    }
   ],
   "source": [
    "True and False"
   ]
  },
  {
   "cell_type": "code",
   "execution_count": 11,
   "metadata": {},
   "outputs": [
    {
     "data": {
      "text/plain": [
       "True"
      ]
     },
     "execution_count": 11,
     "metadata": {},
     "output_type": "execute_result"
    }
   ],
   "source": [
    "#similarly...\n",
    "(letter in [\"a\",\"b\",\"c\"]) or num<3 \n"
   ]
  },
  {
   "cell_type": "code",
   "execution_count": 12,
   "metadata": {},
   "outputs": [
    {
     "data": {
      "text/plain": [
       "True"
      ]
     },
     "execution_count": 12,
     "metadata": {},
     "output_type": "execute_result"
    }
   ],
   "source": [
    "True or False"
   ]
  },
  {
   "cell_type": "markdown",
   "metadata": {},
   "source": [
    "Conditions can be grouped with parentheses, or negated with `not`)"
   ]
  },
  {
   "cell_type": "code",
   "execution_count": 13,
   "metadata": {},
   "outputs": [
    {
     "data": {
      "text/plain": [
       "True"
      ]
     },
     "execution_count": 13,
     "metadata": {},
     "output_type": "execute_result"
    }
   ],
   "source": [
    "True or (False and False)"
   ]
  },
  {
   "cell_type": "code",
   "execution_count": 14,
   "metadata": {},
   "outputs": [
    {
     "data": {
      "text/plain": [
       "True"
      ]
     },
     "execution_count": 14,
     "metadata": {},
     "output_type": "execute_result"
    }
   ],
   "source": [
    "(True or False) and not 5<3"
   ]
  },
  {
   "cell_type": "markdown",
   "metadata": {},
   "source": [
    "Remember, complex conditions can be simplified: \n",
    "\n",
    "`(True or False) and False` is equivalent to `True and False` since \n",
    "\n",
    "`(True or False)` evaluates to `True`.\n",
    "\n",
    "<center>\n",
    "<h3> Exercise </h3>\n",
    "</center>\n",
    "\n",
    "1. Define `a` and `b` as conditions evaluating to True and False.  Write a line corresponding to exclusive or - it should retrun `True` if only one, but not both of `a` and `b` are `True`. Check your function against the built-in exclusive or operator, `^`.\n",
    "\n",
    "```\n",
    "a=True\n",
    "b=False\n",
    "# should return True\n",
    "a=False\n",
    "b=False\n",
    "# should return False\n",
    "```"
   ]
  },
  {
   "cell_type": "markdown",
   "metadata": {},
   "source": [
    "## Want to learn more?\n",
    "\n",
    "The topics we've introduced are covered in significantly more depth in **[Automate the Boring Stuff with Python](https://automatetheboringstuff.com/)**\n",
    "\n",
    "* **[Chapter 1 - Python Basics](https://automatetheboringstuff.com/chapter1/)**\n",
    "  + Basic numeric and string variable types.  \n",
    "  + `print`, `len`, etc. \n",
    "  + Basic user input.\n",
    "\n",
    "* **[Chapter 2 - Flow Control](https://automatetheboringstuff.com/chapter2/)**\n",
    "  + Conditional statements\n",
    "  + Loops\n",
    "\n",
    "* **[Chapter 4 - Lists](https://automatetheboringstuff.com/chapter4/)**\n",
    "  + Lists and indexing    \n",
    "\n",
    "* **[Chapter 4 - Dictionaries](https://automatetheboringstuff.com/chapter5/)**\n",
    "  + Dictionaries, and how to use one to help make a basic tic-tac-toe game."
   ]
  }
 ],
 "metadata": {
  "kernelspec": {
   "display_name": "Python 3",
   "language": "python",
   "name": "python3"
  },
  "language_info": {
   "codemirror_mode": {
    "name": "ipython",
    "version": 3
   },
   "file_extension": ".py",
   "mimetype": "text/x-python",
   "name": "python",
   "nbconvert_exporter": "python",
   "pygments_lexer": "ipython3",
   "version": "3.7.0"
  }
 },
 "nbformat": 4,
 "nbformat_minor": 2
}
