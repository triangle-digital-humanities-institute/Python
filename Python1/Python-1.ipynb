{
 "cells": [
  {
   "cell_type": "markdown",
   "metadata": {},
   "source": [
    "<center><h1>Python I: Basics</h1></center>\n",
    "\n",
    "*Claire Cahoon, Matt Jansen, Nathan Kelber, and Kristina Bush*\n",
    "\n",
    "*Thursday, May 23, 2019*"
   ]
  },
  {
   "cell_type": "markdown",
   "metadata": {},
   "source": [
    "<div style=\"margin-left: 5em;\">\n",
    "<strong><font color=red>Note:</font></strong> If you would like to use Python for the duration of this workshop without downloading anything (or have problems downloading Anaconda), we recommend using [pyfiddle.io](https://pyfiddle.io/).  Make sure you set Python version to 3.6 on the left side of the screen.\n",
    "</div>\n",
    "\n",
    "If you would like to save your work and continue to use Python on your computer, we recommend downloading Anaconda. \n",
    "\n",
    "   * Please install Anaconda following the instructions in [Setup](../Setup.html)  **before** the workshop if possible.\n",
    "   * If you haven't already installed Anaconda, please begin downloading the [Anaconda distribution of Python](https://www.anaconda.com/download/) as soon as possible.  It's a large download and can be slow to download over wifi.  If needed, we also have a limited number of thumb drives with the Anaconda installers.  Please flag one of the staff if you need to copy the installer.\n",
    "\n",
    "\n",
    "\n"
   ]
  },
  {
   "cell_type": "markdown",
   "metadata": {},
   "source": [
    "<center> <h1>Getting Started</h1> </center>\n",
    "\n",
    "**Goals:**\n",
    "\n",
    "* Get the Anaconda Distribution of Python 3.7 downloaded and installed on your computer\n",
    "* Learn to work with basic Python objects\n",
    "* Introduce Loops and Conditionals\n",
    "\n",
    "## Why Python?\n",
    "\n",
    "Python is a general-purpose programming language that has become popular for data and text analysis.  Python can be easier to learn than other languages because it emphasizes (human) readability and flexibility.  Python is [the third most used language on GitHub](https://octoverse.github.com/projects#languages); this means you'll find packages (sets of functionality developed by other users) to use Python for a wide variety of problems and tasks.\n",
    "\n",
    "If you haven't worked with a programming language before, learning Python will introduce you to approaches and thought processes common to many similar languages, making it easier to learn other languages like Java and R.\n",
    "\n",
    "### Use Cases:\n",
    "\n",
    "* Scripting: writing code to automate repeptitive tasks.  For example, extracting text from thousands of pdf files and sorting them into directories based on the information in the texts.\n",
    "\n",
    "* Quantitative analysis: specialized tools and functions for everything from fitting deep learning models with `tensorflow` to creating interactive visualizations with `bokeh`.\n",
    "\n",
    "* Natural Language Processing: extracting text from different file formats and parsing and analyzing sentiment using tools from the `NLTK` package.\n",
    "\n",
    "* Web development(`Django`), Image processing (`pillow`), Web scraping (`BeautifulSoup`), Acessing APIs, and many more.\n",
    "\n",
    "However, there are few things you can do in Python that can't also be done elsewhere!  If you already know one or more programming language, you'll have to decide where Python best fits or helps in your own workflows.\n",
    "\n",
    "#### <font color=red>Warning!</font>\n",
    "\n",
    "If you're already comfortable with basic programming concepts, you may find this workshop very simple.  Python II later in the day may be more helpful if you're already familiar with the concepts below and just need to learn new syntax, but both workshops will be focused on the basics.  You're welcome to stay, review, and help other attendees!\n",
    "\n",
    "####  Python 2 vs Python 3\n",
    "\n",
    "Both Python 2 and Python 3 are widely used in research.  Unfortunately, while both Python 2 and 3 are very similar, there are a few key syntax differences. Python 3 was released in 2008; nearly all important tools have been re-written or updated for Python 3.  **Python 2 will not be maintained after January 1, 2020.**  This workshop will focus on Python 3.\n",
    "\n",
    "\n",
    "## Integrated Development Environments (IDEs)\n",
    "\n",
    "An IDE is software that groups together the many tools to ease development in a programming language, such as a code editor, compiler, and debugger in a convenient interface. There are many different IDEs to choose from.  IDEs are not necessary, but often good for beginners.\n",
    "\n",
    "As you gain experience, you can choose whether an IDE is right for your uses and which one works best for you. For the purposes of this workshop, we will use Spyder, which comes packaged with Anaconda.\n",
    "\n",
    "Open Spyder:\n",
    "* **Windows**: Start>Anaconda3 64-bit>Spyder\n",
    "* **Mac**: Applications>Anaconda Navigator>Spyder\n",
    "\n",
    "![SpyderIDE.png](https://github.com/UNC-Libraries-data/Python/raw/master/Python1/images/SpyderIDE.png)\n",
    "\n",
    "Spyder's default interface provides three panes:\n",
    "\n",
    "* The Editor pane (left) is a scripting window for writing Python code.\n",
    "* The Console pane (bottom right) contains a console for executing code.\n",
    "* The Explorer pane (top right) contains other helpful tools listing defined variables, files in the working directory, and other help."
   ]
  },
  {
   "cell_type": "markdown",
   "metadata": {},
   "source": [
    "<center> <h1>1. Entering code</h1> </center>\n",
    "\n",
    "We'll begin by using Python as a simple calculator.  \n",
    "\n",
    "For the purposes of this workshop, Python code will be presented in numbered grey cells as below.  Any output generated will also be displayed."
   ]
  },
  {
   "cell_type": "code",
   "execution_count": 40,
   "metadata": {
    "scrolled": true
   },
   "outputs": [
    {
     "data": {
      "text/plain": [
       "4"
      ]
     },
     "execution_count": 40,
     "metadata": {},
     "output_type": "execute_result"
    }
   ],
   "source": [
    "2+2"
   ]
  },
  {
   "cell_type": "markdown",
   "metadata": {},
   "source": [
    "To execute this in Spyder, copy or type the code yourself into the Ipython console pane. Press `Enter` to execute.\n",
    "\n",
    "![2+2_console.png](https://github.com/UNC-Libraries-data/Python/raw/master/Python1/images/2+2_console.png)\n",
    "\n",
    "Alternatively, you can enter code into the Editor pane.  This is particularly useful when writing more complicated or reusable code.  The code you write in the Editor pane will be saved as a .py file to run or revise later. \n",
    "\n",
    "To use the Editor pane to save and execute code, type the code in the Editor pane, highlight the line(s) you want to execute and click:\n",
    "\n",
    "* Run > Run Selection or Current Line\n",
    "* **Shortcut:**  **F9** (or **FN+F9** on many laptops)\n",
    "\n",
    "The code will then execute in the Console pane.\n",
    "\n",
    "Standard arithmetic operations are available in Python."
   ]
  },
  {
   "cell_type": "code",
   "execution_count": 41,
   "metadata": {},
   "outputs": [
    {
     "data": {
      "text/plain": [
       "9"
      ]
     },
     "execution_count": 41,
     "metadata": {},
     "output_type": "execute_result"
    }
   ],
   "source": [
    "3*3"
   ]
  },
  {
   "cell_type": "markdown",
   "metadata": {},
   "source": [
    "**Note:** We can annotate our code with comments.  Python uses `#` to denote comments.  Anything typed after a `#` will be ignored on execution of the code."
   ]
  },
  {
   "cell_type": "code",
   "execution_count": 42,
   "metadata": {},
   "outputs": [
    {
     "data": {
      "text/plain": [
       "2.5"
      ]
     },
     "execution_count": 42,
     "metadata": {},
     "output_type": "execute_result"
    }
   ],
   "source": [
    "#1+2\n",
    "5/2 #division"
   ]
  },
  {
   "cell_type": "markdown",
   "metadata": {},
   "source": [
    "<center>\n",
    "<h3>Exercises</h3>\n",
    "</center>\n",
    "\n",
    "1. What is 126544 squared? (Exponentiation is denoted `**`)\n",
    "\n",
    "2. What is 5 divided by 0?"
   ]
  },
  {
   "cell_type": "markdown",
   "metadata": {
    "collapsed": true
   },
   "source": [
    "<center> <h1>2. Variables</h1> </center>\n",
    "\n",
    "We often need Python to store values for future re-use. Python has many default data object types available; we will focus on a few common examples.\n",
    "\n",
    "## Strings and Numbers\n",
    "\n",
    "We assign a value to a variable using `=`.  We do not need to declare a type or give any other information."
   ]
  },
  {
   "cell_type": "code",
   "execution_count": 43,
   "metadata": {},
   "outputs": [],
   "source": [
    "text=\"Hello, World\"\n",
    "number=42"
   ]
  },
  {
   "cell_type": "markdown",
   "metadata": {
    "collapsed": true
   },
   "source": [
    "String objects, like `text` above, contain textual values.  These are identified to Python by quotes; you can use either ' or \" as long as you use the same type to begin and end your string. You can't do mathmatical operations on strings.\n",
    "\n",
    "Python uses several different numeric data types for storing different values. Examples include integers, long integers, and floating point numbers (decimals).  Numbers can also be stored in string values using quotes.\n",
    "\n",
    "For example:"
   ]
  },
  {
   "cell_type": "code",
   "execution_count": 44,
   "metadata": {},
   "outputs": [],
   "source": [
    "notnumber=\"42\" #This is stored as text, not a number"
   ]
  },
  {
   "cell_type": "markdown",
   "metadata": {
    "collapsed": true
   },
   "source": [
    "Once we have defined an object, we can view it again by printing it."
   ]
  },
  {
   "cell_type": "code",
   "execution_count": 45,
   "metadata": {},
   "outputs": [
    {
     "name": "stdout",
     "output_type": "stream",
     "text": [
      "Hello, World\n"
     ]
    }
   ],
   "source": [
    "print(text)"
   ]
  },
  {
   "cell_type": "markdown",
   "metadata": {},
   "source": [
    "<div style=\"margin-left: 5em;\">\n",
    "<strong>Note:</strong> The print command is one of the most basic differences between Python 2 and Python 3. \n",
    "In Python 2, print does not require parentheses:\n",
    "\n",
    "`print text`\n",
    "\n",
    "In Python 3, you must include parentheses:\n",
    "\n",
    "`print(text)`\n",
    "</div>\n",
    "\n",
    "We can also modify the contents of an object: for example, including redefining them or changing their type. The object's type determines what Python can do with the object."
   ]
  },
  {
   "cell_type": "code",
   "execution_count": 46,
   "metadata": {},
   "outputs": [
    {
     "name": "stdout",
     "output_type": "stream",
     "text": [
      "100\n"
     ]
    }
   ],
   "source": [
    "print(number+58)\n",
    "#print(number+notnumber)"
   ]
  },
  {
   "cell_type": "markdown",
   "metadata": {},
   "source": [
    "So we can add a value, 58, to our number object, but we can't add our notnumber object.  Let's double check what notnumber contains:"
   ]
  },
  {
   "cell_type": "code",
   "execution_count": 47,
   "metadata": {},
   "outputs": [
    {
     "name": "stdout",
     "output_type": "stream",
     "text": [
      "42\n"
     ]
    }
   ],
   "source": [
    "print(notnumber)"
   ]
  },
  {
   "cell_type": "code",
   "execution_count": 48,
   "metadata": {},
   "outputs": [
    {
     "name": "stdout",
     "output_type": "stream",
     "text": [
      "42\n"
     ]
    }
   ],
   "source": [
    "print(number)"
   ]
  },
  {
   "cell_type": "markdown",
   "metadata": {},
   "source": [
    "Even those these appear the same, Python treats them very differently.  Remember how we defined notnumber?  Let's check what data type Python is using with `type`."
   ]
  },
  {
   "cell_type": "code",
   "execution_count": 49,
   "metadata": {},
   "outputs": [
    {
     "data": {
      "text/plain": [
       "str"
      ]
     },
     "execution_count": 49,
     "metadata": {},
     "output_type": "execute_result"
    }
   ],
   "source": [
    "type(notnumber)"
   ]
  },
  {
   "cell_type": "markdown",
   "metadata": {},
   "source": [
    "Fortunately Python provides a set of *functions* to convert objects between different data types.  A function stores prewritten commands to accomplish a particular task.  Most functions take one or more objects as 'arguments' (i.e. inputs) and produce some new object as output.\n",
    "\n",
    "We've already seen two functions: `type` and `print`.\n",
    "\n",
    "The `int` function takes an object as an argument and converts it to an `int` (integer) numeric object.  The usage is as follows:"
   ]
  },
  {
   "cell_type": "code",
   "execution_count": 50,
   "metadata": {},
   "outputs": [
    {
     "name": "stdout",
     "output_type": "stream",
     "text": [
      "42\n"
     ]
    },
    {
     "data": {
      "text/plain": [
       "int"
      ]
     },
     "execution_count": 50,
     "metadata": {},
     "output_type": "execute_result"
    }
   ],
   "source": [
    "newnumber=int(notnumber)\n",
    "print(newnumber)\n",
    "type(newnumber)"
   ]
  },
  {
   "cell_type": "markdown",
   "metadata": {},
   "source": [
    "`int` objects can only hold integer values (whole numbers).  If you have decimal values, use the `float` (floating decimal) type instead."
   ]
  },
  {
   "cell_type": "code",
   "execution_count": 51,
   "metadata": {},
   "outputs": [
    {
     "name": "stdout",
     "output_type": "stream",
     "text": [
      "42.5\n"
     ]
    }
   ],
   "source": [
    "myfloat=float(newnumber)+0.5\n",
    "print(myfloat)"
   ]
  },
  {
   "cell_type": "markdown",
   "metadata": {},
   "source": [
    "Now we can try adding objects again."
   ]
  },
  {
   "cell_type": "code",
   "execution_count": 52,
   "metadata": {},
   "outputs": [
    {
     "name": "stdout",
     "output_type": "stream",
     "text": [
      "84\n"
     ]
    }
   ],
   "source": [
    "print(number+newnumber)"
   ]
  },
  {
   "cell_type": "markdown",
   "metadata": {},
   "source": [
    "### Getting help with functions\n",
    "\n",
    "You can access documentation for functions in Python with `help`, for example `help(sum)`.  Base Python functions and those provided by packages also usually have online documentation that may be easier to read.\n",
    "\n",
    "<center>\n",
    "<h3>Exercises</h3>\n",
    "</center>\n",
    "\n",
    "1. Define two variables, `j` and `k`, with values 37 and 52 respectively.\n",
    "2. What is the sum of `j` and `k`? The product?  Write code for each of these in the **editor window**, and run with the keyboard shortcut (refer back to Section 1. Entering Code).\n",
    "3. Now define `j` and `k` to be 8 and 3.  Re-use your code from the editor to determine their sum and product.\n",
    "\n",
    "\n",
    "## Lists\n",
    "\n",
    "Lists store multiple objects together.  For example, we can save numbers and characters:"
   ]
  },
  {
   "cell_type": "code",
   "execution_count": 53,
   "metadata": {},
   "outputs": [
    {
     "name": "stdout",
     "output_type": "stream",
     "text": [
      "[1, 2, 3, 'four']\n"
     ]
    }
   ],
   "source": [
    "my_list=[1,2,3,\"four\"]\n",
    "print(my_list)"
   ]
  },
  {
   "cell_type": "markdown",
   "metadata": {},
   "source": [
    "We can also directly place previously defined objects into a list (even other lists!):"
   ]
  },
  {
   "cell_type": "code",
   "execution_count": 54,
   "metadata": {},
   "outputs": [
    {
     "name": "stdout",
     "output_type": "stream",
     "text": [
      "[12, 'cat', ['a', 'b', 'c']]\n"
     ]
    }
   ],
   "source": [
    "obj0=12\n",
    "obj1=\"cat\"\n",
    "obj2=[\"a\",\"b\",\"c\"]\n",
    "my_list1=[obj0,obj1,obj2]\n",
    "print(my_list1)"
   ]
  },
  {
   "cell_type": "markdown",
   "metadata": {},
   "source": [
    "Once we've defined a list, we can add more elements to the end with the `.append` function."
   ]
  },
  {
   "cell_type": "code",
   "execution_count": 55,
   "metadata": {},
   "outputs": [
    {
     "name": "stdout",
     "output_type": "stream",
     "text": [
      "[12, 'cat', ['a', 'b', 'c'], 'dog', 42]\n"
     ]
    }
   ],
   "source": [
    "my_list1.append(\"dog\")\n",
    "my_list1.append(42)\n",
    "print(my_list1)"
   ]
  },
  {
   "cell_type": "markdown",
   "metadata": {
    "collapsed": true
   },
   "source": [
    "<center>\n",
    "<h3>Exercise</h3>\n",
    "</center>\n",
    "\n",
    "1. Create a list that includes:\n",
    "     * your favorite color\n",
    "     * your two favorite holidays (as a list within the list)\n",
    "    \n",
    "    For example:\n",
    "    `[\"red\",[\"Halloween\",\"New Years\"]]`\n",
    "    \n",
    "2. Then append the number of pets you have as a new list item\n",
    " \n",
    "\n",
    "\n",
    "### Indexing\n",
    "\n",
    "Python retains the **order** of elements in our list and uses that order to retrieve objects in lists.  These numbered positions are called indices.\n",
    "\n",
    "We use `[` and `]` to provide indices to Python.\n",
    "\n",
    "Most importantly, **Python starts counting at zero**: The first element in your list is denoted `[0]`, the second `[1]`, the third `[2]` and so on.  This can take some getting used to!"
   ]
  },
  {
   "cell_type": "code",
   "execution_count": 56,
   "metadata": {},
   "outputs": [
    {
     "name": "stdout",
     "output_type": "stream",
     "text": [
      "parrot\n"
     ]
    }
   ],
   "source": [
    "my_list2 = [\"cat\",\"dog\",\"parrot\"]\n",
    "print(my_list2[2])"
   ]
  },
  {
   "cell_type": "markdown",
   "metadata": {},
   "source": [
    "We can use multiple indices for lists within lists, one after the other:"
   ]
  },
  {
   "cell_type": "code",
   "execution_count": 57,
   "metadata": {},
   "outputs": [
    {
     "name": "stdout",
     "output_type": "stream",
     "text": [
      "b\n"
     ]
    }
   ],
   "source": [
    "#recall\n",
    "my_list1=[12, 'cat', ['a', 'b', 'c']]\n",
    "print(my_list1[2][1]) #i.e. the second element of the list held in the third element of my_list1"
   ]
  },
  {
   "cell_type": "markdown",
   "metadata": {},
   "source": [
    "The `len` function provides the length of an object in Python."
   ]
  },
  {
   "cell_type": "code",
   "execution_count": 58,
   "metadata": {},
   "outputs": [
    {
     "name": "stdout",
     "output_type": "stream",
     "text": [
      "3\n"
     ]
    }
   ],
   "source": [
    "print(len(my_list1))"
   ]
  },
  {
   "cell_type": "markdown",
   "metadata": {},
   "source": [
    "If `len(my_new_list)=10` that means there are ten elements in the list.  Remember that Python starts counting at 0, so the indices are 0 through 9.  \n",
    "\n",
    "We can use the `range` function with `len` to generate a list of indices."
   ]
  },
  {
   "cell_type": "code",
   "execution_count": 59,
   "metadata": {},
   "outputs": [
    {
     "name": "stdout",
     "output_type": "stream",
     "text": [
      "[0, 1, 2]\n"
     ]
    }
   ],
   "source": [
    "my_indices1 = list(range(len(my_list1)))\n",
    "print(my_indices1)"
   ]
  },
  {
   "cell_type": "markdown",
   "metadata": {},
   "source": [
    "#### Indexing beyond lists\n",
    "\n",
    "Indexes can also be used with any sequential data type, including strings.\n",
    "\n",
    "If you want to retrieve a range of indexes, you can use two numbers with `:` in between. Note that Python stops at the index **before** the one you note as the end of the range.\n",
    "\n",
    "For example:"
   ]
  },
  {
   "cell_type": "code",
   "execution_count": 60,
   "metadata": {},
   "outputs": [
    {
     "name": "stdout",
     "output_type": "stream",
     "text": [
      "q\n",
      "quick\n"
     ]
    }
   ],
   "source": [
    "my_str=\"The quick brown fox jumps over the lazy dog.\"\n",
    "print(my_str[4])\n",
    "print(my_str[4:9]) #4:9 indicates characters 4-8"
   ]
  },
  {
   "cell_type": "markdown",
   "metadata": {},
   "source": [
    "Using `:` ranges with one end blank will automatically go to the end of the object.\n",
    "\n",
    "We can also work from right to left using negative numbers."
   ]
  },
  {
   "cell_type": "code",
   "execution_count": 61,
   "metadata": {},
   "outputs": [
    {
     "name": "stdout",
     "output_type": "stream",
     "text": [
      "The \n",
      "dog.\n"
     ]
    }
   ],
   "source": [
    "print(my_str[:4])\n",
    "print(my_str[-4:])"
   ]
  },
  {
   "cell_type": "markdown",
   "metadata": {},
   "source": [
    "We can still use multiple nested indices across different sequential data types."
   ]
  },
  {
   "cell_type": "code",
   "execution_count": 62,
   "metadata": {},
   "outputs": [
    {
     "data": {
      "text/plain": [
       "'hom'"
      ]
     },
     "execution_count": 62,
     "metadata": {},
     "output_type": "execute_result"
    }
   ],
   "source": [
    "[\"home\",\"away\"][0][0:3]"
   ]
  },
  {
   "cell_type": "markdown",
   "metadata": {},
   "source": [
    "Unfortunately, not all data types are sequential - indices will not work on numeric values. \n",
    "\n",
    "<center>\n",
    "<h3>Exercises</h3>\n",
    "</center>\n",
    "\n",
    "1. Try to use indexing to get the tenth digit of `my_pi` as defined below.  Does it work as defined?  If not, how could we make it work?\n",
    "```\n",
    "my_pi=3.141592653589793\n",
    "```\n",
    "2. Below is a list of lists of strings containing the NATO phonetic codes for each letter of the alphabet.  Each list within `nato` contains a letter of the alphabet and its corresponding code.\n",
    "```\n",
    "nato=[[\"A\",\"Alfa\"],\n",
    "          [\"B\",\"Bravo\"],\n",
    "          [\"C\",\"Charlie\"],\n",
    "          [\"D\",\"Delta\"],\n",
    "          [\"E\",\"Echo\"],\n",
    "          [\"F\",\"Foxtrot\"],\n",
    "          [\"G\",\"Golf\"],\n",
    "          [\"H\",\"Hotel\"],\n",
    "          [\"I\",\"India\"],\n",
    "          [\"J\",\"Juliett\"],\n",
    "          [\"K\",\"Kilo\"],\n",
    "          [\"L\",\"Lima\"],\n",
    "          [\"M\",\"Mike\"],\n",
    "          [\"N\",\"November\"],\n",
    "          [\"O\",\"Oscar\"],\n",
    "          [\"P\",\"Papa\"],\n",
    "          [\"Q\",\"Quebec\"],\n",
    "          [\"R\",\"Romeo\"],\n",
    "          [\"S\",\"Sierra\"],\n",
    "          [\"T\",\"Tango\"],\n",
    "          [\"U\",\"Uniform\"],\n",
    "          [\"V\",\"Victor\"],\n",
    "          [\"W\",\"Whiskey\"],\n",
    "          [\"X\",\"X-ray\"],\n",
    "          [\"Y\",\"Yankee\"],\n",
    "          [\"Z\",\"Zulu\"]]\n",
    "```\n",
    "\n",
    "* What is the fifteenth letter of the alphabet?\n",
    "* What is the code for the twenty-third letter of the alphabet?\n",
    "* What is the fourth letter of the code for the eighth letter of the alphabet?\n",
    "\n",
    "There are other important data types we won't cover today.  We will cover Python's data type for mapping between values, dictionaries, in the [Python I Extra](../Extras/Python-1-Extras.html).\n",
    "\n",
    "Read more about Python's built-in data types [here](https://docs.python.org/3/library/stdtypes.html)."
   ]
  },
  {
   "cell_type": "markdown",
   "metadata": {},
   "source": [
    "<center> <h1>3. Conditionals</h1> </center>\n",
    "\n",
    "## Conditions and Booleans\n",
    "\n",
    "Conditions let us check if a certain statement is true.\n",
    "\n",
    "Conditions often arise from comparisons:\n",
    "\n",
    "        <          strictly less than\n",
    "        <= \t    less than or equal\n",
    "        > \t     strictly greater than\n",
    "        >= \t    greater than or equal\n",
    "        == \t    equal\n",
    "        != \t    not equal\n",
    "        is \t    object identity\n",
    "        is not \tnegated object identity\n",
    "        in \t    sequence membership\n",
    "        not in \tsequence non-membership\n",
    "\n",
    "<div style=\"margin-left: 4em;\">\n",
    "<strong>Note:</strong> `=` is used for assignment, whereas `==` checks if two objects are equal.\n",
    "</div>\n",
    "\n",
    "Each condition considered evaluates to a Boolean value - `True` or `False`."
   ]
  },
  {
   "cell_type": "code",
   "execution_count": 63,
   "metadata": {},
   "outputs": [
    {
     "data": {
      "text/plain": [
       "False"
      ]
     },
     "execution_count": 63,
     "metadata": {},
     "output_type": "execute_result"
    }
   ],
   "source": [
    "num=5\n",
    "num<3"
   ]
  },
  {
   "cell_type": "code",
   "execution_count": 64,
   "metadata": {},
   "outputs": [
    {
     "data": {
      "text/plain": [
       "True"
      ]
     },
     "execution_count": 64,
     "metadata": {},
     "output_type": "execute_result"
    }
   ],
   "source": [
    "letter=\"a\"\n",
    "letter in [\"a\",\"b\",\"c\"]"
   ]
  },
  {
   "cell_type": "markdown",
   "metadata": {},
   "source": [
    "## Conditional Statements\n",
    "\n",
    "A conditional statement allows your code to branch and behave differently based on defined conditions.\n",
    "\n",
    "A simple conditional statement takes the form:\n",
    "\n",
    "```\n",
    "if <condition>:\n",
    "    <do something only if condition1 is true>\n",
    "```\n",
    "\n",
    "Your instructions can be as long as necessary, but they have to remain indented.  Indentation is very important in Python as it groups lines of code without using explict characters like `{` and `}` as in many other language.  You can indent with spaces or tabs, but you must be **consistent**.\n",
    " \n",
    "We can supply alternate instructions if the condition is false with `else`, or even consider multiple conditions with `elif` (i.e. else if).\n",
    "\n",
    "```\n",
    "if <condition1>:\n",
    "    <do something if condition1 is true>\n",
    "elif <condition2>:\n",
    "    <do a different thing if condition1 is false and condition2 is true>\n",
    "else\n",
    "    <do a third thing if neither condition is true>\n",
    "```"
   ]
  },
  {
   "cell_type": "code",
   "execution_count": 65,
   "metadata": {},
   "outputs": [
    {
     "name": "stdout",
     "output_type": "stream",
     "text": [
      "This number is greater than four\n"
     ]
    }
   ],
   "source": [
    "num=5\n",
    "if num>4:\n",
    "    print(\"This number is greater than four\")"
   ]
  },
  {
   "cell_type": "code",
   "execution_count": 66,
   "metadata": {},
   "outputs": [],
   "source": [
    "num=3\n",
    "if num>4:\n",
    "    print(\"This number is greater than four\")"
   ]
  },
  {
   "cell_type": "markdown",
   "metadata": {},
   "source": [
    "Adding `else` lets us give instructions if our condition is `False`."
   ]
  },
  {
   "cell_type": "code",
   "execution_count": 67,
   "metadata": {},
   "outputs": [
    {
     "name": "stdout",
     "output_type": "stream",
     "text": [
      "This number is less than or equal to four\n"
     ]
    }
   ],
   "source": [
    "num=3\n",
    "if num>4:\n",
    "    print(\"This number is greater than than four\")\n",
    "else:\n",
    "    print(\"This number is less than or equal to four\")"
   ]
  },
  {
   "cell_type": "markdown",
   "metadata": {},
   "source": [
    "Finally, the `elif` command lets us split the possible values of `num` into more groups."
   ]
  },
  {
   "cell_type": "code",
   "execution_count": 68,
   "metadata": {},
   "outputs": [
    {
     "name": "stdout",
     "output_type": "stream",
     "text": [
      "This number is greater than or equal to three and less than ten\n"
     ]
    }
   ],
   "source": [
    "num=8\n",
    "if num<3:\n",
    "    print(\"This number is less than three\")\n",
    "elif num<10:\n",
    "    print(\"This number is greater than or equal to three and less than ten\")\n",
    "else:\n",
    "    print(\"This number is greater than ten\")"
   ]
  },
  {
   "cell_type": "markdown",
   "metadata": {},
   "source": [
    "<center>\n",
    "<h3>Exercise</h3>\n",
    "</center>\n",
    "\n",
    "1. Using indexing, write a conditional that print a word only if it ends with the letter 'e'.\n",
    "Template:\n",
    "```\n",
    "testword=<your choice of word>\n",
    "if <condition using testword>:\n",
    "        print(testword)\n",
    "```"
   ]
  },
  {
   "cell_type": "markdown",
   "metadata": {},
   "source": [
    "<center> <h1>4. Loops</h1> </center>\n",
    "\n",
    "## For Loops\n",
    "\n",
    "A \"for loop\" allows us to apply the same steps to each element in a list or other sequence of objects.  In essence, loops let us automate tasks relative to some sequence that we might *otherwise* write like this:"
   ]
  },
  {
   "cell_type": "code",
   "execution_count": 69,
   "metadata": {},
   "outputs": [
    {
     "name": "stdout",
     "output_type": "stream",
     "text": [
      "26\n"
     ]
    }
   ],
   "source": [
    "sales=[5,2,7,9,3]\n",
    "total_sales=0\n",
    "total_sales=total_sales+sales[0]\n",
    "total_sales=total_sales+sales[1]\n",
    "total_sales=total_sales+sales[2]\n",
    "total_sales=total_sales+sales[3]\n",
    "total_sales=total_sales+sales[4]\n",
    "print(total_sales)"
   ]
  },
  {
   "cell_type": "markdown",
   "metadata": {},
   "source": [
    "Loops take the form:\n",
    "\n",
    "\n",
    "`for <name> in <list>:`\n",
    "\n",
    "        do something based on name\n",
    "        \n",
    "    \n",
    "* `<name>` is **completely arbitrary**, though i,j,k, and n are relatively common\n",
    "* `<list>` is a pre-defined list or other iterable object.\n",
    "* **Reminder: Indentation is very important in Python and must be used consistently across the loop(s)** Only the code indented under the loop will be run in each iteration."
   ]
  },
  {
   "cell_type": "code",
   "execution_count": 70,
   "metadata": {},
   "outputs": [
    {
     "name": "stdout",
     "output_type": "stream",
     "text": [
      "0\n",
      "1\n",
      "2\n",
      "3\n",
      "4\n",
      "5\n"
     ]
    }
   ],
   "source": [
    "my_nums=list(range(6))\n",
    "\n",
    "for n in my_nums:\n",
    "    print(n)"
   ]
  },
  {
   "cell_type": "markdown",
   "metadata": {},
   "source": [
    "We can also loop within loops.  Like conditionals, indentation is key to control which blocks of code are executed within which loop."
   ]
  },
  {
   "cell_type": "code",
   "execution_count": 71,
   "metadata": {},
   "outputs": [
    {
     "name": "stdout",
     "output_type": "stream",
     "text": [
      "[['blue', 4], ['yellow', 6], ['red', 3], ['green', 5]]\n"
     ]
    }
   ],
   "source": [
    "#Nesting loops - indentation is key!\n",
    "listOfWords = [\"blue\", \"yellow\", \"red\", \"green\"]\n",
    "newList = [] #initialize an empty list\n",
    "\n",
    "for color in listOfWords:\n",
    "    numLetters = 0 #resets to zero each time the loop runs\n",
    "    for letter in color:\n",
    "        numLetters += 1\n",
    "    temporaryList = [color, numLetters]\n",
    "    newList.append(temporaryList)\n",
    "    \n",
    "print(newList)"
   ]
  },
  {
   "cell_type": "markdown",
   "metadata": {},
   "source": [
    "Notice that before the loop begins we create an **empty list**.  This is a common stragegy to collect outputs from some or all of the loops iterations.  This can generalize to numbers by defining a zero-valued variable before the loop and modifying it with each iteration."
   ]
  },
  {
   "cell_type": "markdown",
   "metadata": {},
   "source": [
    "How could we write the code above with fewer lines? Is there a simpler way to find the length of each word?"
   ]
  },
  {
   "cell_type": "markdown",
   "metadata": {},
   "source": [
    "## For Loops with Conditionals\n",
    "\n",
    "Loops become even more useful when combined with conditionals, to perform different steps based on each value in the loop."
   ]
  },
  {
   "cell_type": "code",
   "execution_count": 72,
   "metadata": {},
   "outputs": [
    {
     "name": "stdout",
     "output_type": "stream",
     "text": [
      "0\n",
      "2\n",
      "4\n",
      "6\n",
      "8\n"
     ]
    }
   ],
   "source": [
    "for number in range(10):\n",
    "    if number % 2 == 0: # % denotes the modulo operation - the result is the remainder after dividing by 2\n",
    "        print(number)"
   ]
  },
  {
   "cell_type": "markdown",
   "metadata": {},
   "source": [
    "Recall that we can combine multiple conditions with `and`."
   ]
  },
  {
   "cell_type": "code",
   "execution_count": 73,
   "metadata": {},
   "outputs": [
    {
     "name": "stdout",
     "output_type": "stream",
     "text": [
      "[[95, 'A'], [90, 'A'], [66, 'D'], [83, 'B'], [71, 'C'], [78, 'C'], [93, 'A'], [81, 'B'], [87, 'B'], [81, 'B']]\n"
     ]
    }
   ],
   "source": [
    "scores=[95,90,66,83,71,78,93,81,87,81]\n",
    "grades=[]\n",
    "for score in scores:\n",
    "    if score>=90:\n",
    "        grade=\"A\"\n",
    "    elif score>=80:\n",
    "        grade=\"B\"\n",
    "    elif score>=70 and score<80:\n",
    "        grade=\"C\"\n",
    "    elif score>=60 and score<70:\n",
    "        grade=\"D\"\n",
    "    else:\n",
    "        grade=\"F\"\n",
    "    grades.append([score,grade])       \n",
    "print(grades)"
   ]
  },
  {
   "cell_type": "markdown",
   "metadata": {},
   "source": [
    "**Exercise:**\n",
    "1. Why only specify `score>=80` etc. in the `elif` statements?  Can these conditionals be simplified?\n",
    "2. How many numbers between 1 and 100 are divisible by 7?\n",
    "3. Make a new list of NATO codes keeping only those that use the letter \"a\" in their code."
   ]
  },
  {
   "cell_type": "markdown",
   "metadata": {},
   "source": [
    "### <font color=blue>Breaks (Advanced)</font>\n",
    "\n",
    "We can use the break statement with a conditional to stop the loop if a certain condition occurs.\n",
    "\n",
    "First, lets get some new functions from a package called `random`.  \n",
    "* `from random import choices,seed` makes the functions `choices` and `seed` from the `random` package available in our Python session.\n",
    "* `choices(population=range(100),k=50)` will sample 50 random numbers (with replacement) from the numbers 0-99.  \n",
    "* `seed(1234)` locks the pseudo-random number generator so your results should match mine - try running this again without `seed`!\n",
    "\n",
    "You can read more about the functions in the `random` package [here](https://docs.python.org/3/library/random.html).  We'll revisit packages next week!"
   ]
  },
  {
   "cell_type": "code",
   "execution_count": 74,
   "metadata": {},
   "outputs": [
    {
     "name": "stdout",
     "output_type": "stream",
     "text": [
      "[96, 44, 0, 91, 93, 58, 67, 8, 76, 23, 3, 78, 34, 62, 61, 14, 18, 11, 1, 48, 96, 6, 54, 46, 60, 8, 57, 26, 55, 64, 48, 35, 24, 93, 45, 53, 1, 50, 0, 14, 47, 37, 5, 58, 16, 55, 14, 93, 77, 95]\n"
     ]
    }
   ],
   "source": [
    "from random import choices,seed \n",
    "\n",
    "seed(1234)\n",
    "\n",
    "test=choices(population=range(100),k=50)\n",
    "print(test)"
   ]
  },
  {
   "cell_type": "code",
   "execution_count": 75,
   "metadata": {},
   "outputs": [
    {
     "name": "stdout",
     "output_type": "stream",
     "text": [
      "This number is too low: 0\n",
      "140\n"
     ]
    }
   ],
   "source": [
    "total=0\n",
    "for number in test:\n",
    "    if number>10:\n",
    "        total=total+number\n",
    "    else:\n",
    "        print(\"This number is too low:\",number)\n",
    "        break\n",
    "print(total)"
   ]
  },
  {
   "cell_type": "markdown",
   "metadata": {},
   "source": [
    "What does the above loop do?  How would this run differently if we disabled the break by commenting (i.e. `#break`)?\n",
    "\n",
    "<center>\n",
    "<h3><font color=blue>Exercise (Advanced)</font></h3>\n",
    "</center>\n",
    "\n",
    "1. Use the `choices` function above to generate a random list of 50 numbers in 0-99. Write a loop that will find the sum of only the first 6 even numbers."
   ]
  },
  {
   "cell_type": "markdown",
   "metadata": {},
   "source": [
    "## Next Up (Python II):\n",
    "* Reading and writing external files \n",
    "* User-defined Functions\n",
    "* Loading Packages\n",
    "* Survey of useful packages for Data Analysis\n",
    "    + Pandas\n",
    "    \n",
    "**If you are taking Python II later today** and do not have Anaconda downloaded yet, please begin the process as soon as possible (see [Setup](../Setup.html)) since some of the material in Python II cannot be completed using pyfiddle. If you are having trouble with installing or need to borrow a computer for the workshop, see one of the instructors!\n",
    "\n",
    "   \n",
    "\n",
    "## Learn More:\n",
    "\n",
    "If you'd like more practice, you can attempt our **[Python I: Extra](../Extras/Python-1-Extras.html)**.\n",
    "\n",
    "\n",
    "Thanks for coming!"
   ]
  },
  {
   "cell_type": "markdown",
   "metadata": {},
   "source": [
    "## References and Resources\n",
    "\n",
    "* <a href=\"https://automatetheboringstuff.com/\">Automate the Boring Stuff with Python</a>\n",
    "\n",
    "* <a href=\"https://stackoverflow.com/questions/tagged/python-3.x?sort=frequent&pageSize=15\">Stack Overflow</a>\n",
    "\n",
    "* <a href=\"https://www.google.com/\">Google!</a>\n",
    "\n",
    "* <a href=\"http://www.karsdorp.io/python-course/\">Python Programming for the Humanities</a>"
   ]
  }
 ],
 "metadata": {
  "anaconda-cloud": {},
  "kernelspec": {
   "display_name": "Python 3",
   "language": "python",
   "name": "python3"
  },
  "language_info": {
   "codemirror_mode": {
    "name": "ipython",
    "version": 3
   },
   "file_extension": ".py",
   "mimetype": "text/x-python",
   "name": "python",
   "nbconvert_exporter": "python",
   "pygments_lexer": "ipython3",
   "version": "3.7.0"
  }
 },
 "nbformat": 4,
 "nbformat_minor": 2
}
