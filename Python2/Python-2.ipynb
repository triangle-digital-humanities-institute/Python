{
 "cells": [
  {
   "cell_type": "markdown",
   "metadata": {},
   "source": [
    "<center><h1>Python 2: Advanced Beginner</h1></center>\n",
    "    \n",
    "*Claire Cahoon, Matt Jansen, Nathan Kelber, and Kristina Bush*\n",
    "\n",
    "Thursday, May 23, 2019\n",
    "\n",
    "**Abstract:**\n",
    "This workshop will:\n",
    "* Briefly review the basics covered in Python 1\n",
    "* Learn how to work with files and directories\n",
    "* Define our own functions and handle errors\n",
    "* Survey some of the more important data-related packages, especially pandas\n",
    "\n",
    "## Contents\n",
    "\n",
    "* [Review](#Review)\n",
    "    + [Pseudocode](#Pseudocode)\n",
    "    + [Comments](#Comments)\n",
    "* [Try/Except](#Try-/-Except---Making-your-code-robust)\n",
    "* [Functions](#Defining-your-own-Functions)\n",
    "* [Reading and Writing Files from Python](#Reading-and-Writing-Files-from-Python)\n",
    "    + [Working Directories](#Working-Directories)\n",
    "* [Scripts](#Running-Scripts)\n",
    "* [Useful Packages](#Useful-Packages)\n",
    "    + [Pandas](#Pandas)\n"
   ]
  },
  {
   "cell_type": "markdown",
   "metadata": {},
   "source": [
    "### NOTE:\n",
    "This workshop assumes that you already have the <a href=\"https://www.anaconda.com/download/\">Anaconda distribution</a> of Python 3.7 installed.  Detailed installation instructions are available in the [Python I materials](https://unc-libraries-data.github.io/Python/Python1/Python-1.html). \n",
    "\n",
    "# Review\n",
    "\n",
    "Last week, we introduced:\n",
    "\n",
    "* Numeric types (`int`,`float`): \n",
    "```\n",
    "my_int=4\n",
    "```\n",
    "* Strings (`str`): \n",
    "```\n",
    "my_string=\"cat\"\n",
    "```\n",
    "* Lists (`list`): \n",
    "```\n",
    "my_list=[my_int,my_string]\n",
    "```\n",
    "* For loops:\n",
    "```\n",
    "for k in range(10):\n",
    "    print(k)\n",
    "```\n",
    "* Conditionals\n",
    "```\n",
    "if my_string==\"cat\":\n",
    "    print(\"This is a cat!\")\n",
    "else:\n",
    "    print(\"This is not a cat!\")\n",
    "```\n",
    "\n",
    "\n",
    "## Pseudocode\n",
    "\n",
    "As you get started coding in Python, there will be many many tasks and steps you aren't familiar with!  As you learn new functions and approaches, you'll become better and better at searching for help online and reviewing documentation.  Learning to write and use pseudocode where appropriate can help organize your plan for any individual script.\n",
    "\n",
    "Pseudocode is essentially a first draft of your code, written in English for **human consumption**, though with the tools of your programming language in mind.  For example, we might write pseudocode for extracting text from pdf files as:\n",
    "\n",
    "    1. Set Working Directory (tell the computer where we've saved our files)\n",
    "    2. Loop through each pdf in the directory:\n",
    "        * open the pdf file\n",
    "        * extract text\n",
    "        * check length of text extracted\n",
    "            * if length is zero: add to problems list\n",
    "            * otherwise, add to output file\n",
    "    3. Write output file(s)\n",
    "\n",
    "This process can divide a complicated task into more digestible parts.  You may not know how to open a pdf file or extract text from it, but you'll often have better luck finding existing help online on smaller tasks like these than with your overall goal or project.\n",
    "\n",
    "<center>\n",
    "<h3>Exercises</h3>\n",
    "</center>\n",
    "\n",
    "* Write pseudocode to summarize the following code:"
   ]
  },
  {
   "cell_type": "code",
   "execution_count": 11,
   "metadata": {},
   "outputs": [],
   "source": [
    "random_words=[\"statement\", \"toy\", \"cars\", \"shoes\", \"ear\", \"busy\", \n",
    "              \"magnificent\", \"brainy\", \"healthy\", \"narrow\", \"join\", \n",
    "              \"decay\", \"dashing\", \"river\", \"gather\", \"stop\", \"satisfying\", \n",
    "              \"holistic\", \"reply\", \"steady\", \"event\", \"house\", \"amused\", \n",
    "              \"soak\", \"increase\"]\n",
    "\n",
    "vowels=[\"a\",\"e\",\"i\",\"o\",\"u\",\"y\"]\n",
    "\n",
    "output=[]\n",
    "\n",
    "for word in random_words:\n",
    "    count=0\n",
    "    for char in word:\n",
    "        if char in vowels:\n",
    "            count=count+1\n",
    "    if count>=3:\n",
    "        output.append([word,count])"
   ]
  },
  {
   "cell_type": "markdown",
   "metadata": {},
   "source": [
    "* Write pseudocode to check an arbitrary list of numbers, `my_numbers`, to find all even numbers and convert them to odd numbers by adding one.  Put the resulting numbers into a new list `my_numbers2`.  (Recall `for` loops ,`if` conditions, and the modulo function `%` from Python 1.)\n",
    "\n",
    "## Comments\n",
    "\n",
    "Recall that Python ignores anything following a `#` as a comment.  Comments are a vital part of your code, as they leave notes about how or why you're doing something.  As you gain experience, you'll use comments in different ways.\n",
    "\n",
    "Comments can also provide a link between pseudocode and real code.  Once you've written your pseudocode, use comments to put the major steps into your code file itself.  Then fill in the gaps with actual code as you figure it out.\n",
    "\n",
    "Here's a possible answer to the previous exercise."
   ]
  },
  {
   "cell_type": "code",
   "execution_count": 12,
   "metadata": {},
   "outputs": [],
   "source": [
    "#1. Get or define the list my_numbers\n",
    "my_numbers=list(range(100))\n",
    "\n",
    "#2. Create an empty list for the new all-odd numbers, called my_numbers2.\n",
    "\n",
    "#3. Use a loop to iterate through the list of numbers\n",
    "\n",
    "    #3a. For a given number check to see if it is even.\n",
    "    \n",
    "    #3b. If the number is even, add 1.\n",
    "    \n",
    "    #3c. Append the resulting number to the my_numbers2 list."
   ]
  },
  {
   "cell_type": "markdown",
   "metadata": {},
   "source": [
    "<center>\n",
    "<h3>Exercise</h3>\n",
    "</center>\n",
    "\n",
    "* Use your own pseudocode or the example above as an outline to fill in with Python code.  Test your code with the `my_numbers` object defined above."
   ]
  },
  {
   "cell_type": "markdown",
   "metadata": {},
   "source": [
    "# Try / Except - Making your code robust\n",
    "\n",
    "Errors and warnings are a regular occurrence in coding, and an important part of the learning process.  In some cases, they can also be useful in designing an algorithm.  For example, suppose we have a stream of user entered data that is supposed to contain the user's age in years.  You might expect to get a few errors or nonsense entries."
   ]
  },
  {
   "cell_type": "code",
   "execution_count": 13,
   "metadata": {},
   "outputs": [],
   "source": [
    "user_ages=[\"34\",\"27\",\"54\",\"19\",\"giraffe\",\"15\",\"83\",\"61\",\"43\",\"91\",\"sixteen\"]"
   ]
  },
  {
   "cell_type": "markdown",
   "metadata": {},
   "source": [
    "It would be useful to convert these values to a numeric type to get the average age of our users, but we want to build something that can set non-numeric values aside.  We can attempt to convert to numeric and give Python instructions for errors with a `try`-`except` statement:"
   ]
  },
  {
   "cell_type": "code",
   "execution_count": 14,
   "metadata": {},
   "outputs": [
    {
     "name": "stdout",
     "output_type": "stream",
     "text": [
      "[34, 27, 54, 19, 15, 83, 61, 43, 91]\n",
      "['giraffe', 'sixteen']\n"
     ]
    }
   ],
   "source": [
    "ages=[]\n",
    "problems=[]\n",
    "\n",
    "for age in user_ages:\n",
    "    try:\n",
    "        a=int(age)\n",
    "        ages.append(a)\n",
    "    except:\n",
    "        problems.append(age)\n",
    "        \n",
    "print(ages)\n",
    "print(problems)"
   ]
  },
  {
   "cell_type": "markdown",
   "metadata": {},
   "source": [
    "# Defining your own Functions\n",
    "\n",
    "While Python (and its available packages) provide a wide variety of functions, sometimes it's useful to create your own.  Python's syntax for defining a function is as follows:\n",
    "\n",
    "```\n",
    "def <function_name> ( <arguments> ):\n",
    "    <code depending on arguments>\n",
    "    return <value>\n",
    "        \n",
    "```\n",
    "\n",
    "The `mean` function below returns the mean of a list of numbers.  (Base Python does not include a function for the mean.)"
   ]
  },
  {
   "cell_type": "code",
   "execution_count": 15,
   "metadata": {},
   "outputs": [
    {
     "name": "stdout",
     "output_type": "stream",
     "text": [
      "25.5\n"
     ]
    }
   ],
   "source": [
    "def mean(number_list):\n",
    "    s=sum(number_list)\n",
    "    n=len(number_list)\n",
    "    m=s/n\n",
    "    return m\n",
    "\n",
    "numbers=list(range(1,51))\n",
    "print(mean(numbers))"
   ]
  },
  {
   "cell_type": "markdown",
   "metadata": {},
   "source": [
    "<center>\n",
    "<h3>Exercises</h3>\n",
    "</center>\n",
    "\n",
    "Choose one of the following (or both if you're feeling ambitious!):\n",
    "* Define a function, `median` to find the median of a list.  The median is the middle number of an odd-numbered list or the average of the middle two numbers in an even numbered list.  (Hint: Use `sorted(<your_list>)` to create a list sorted from low to high values.\n",
    "\n",
    "* Define your own function, `variance` to calculate the (population) variance, of a list of numbers:\n",
    "\n",
    "$$ \\sigma^2 = \\frac{1}{N} \\sum_{i=1}^{N} (x_i-\\mu)^2 $$\n",
    "\n",
    "Where $N$ is the length of the list, $x_1, x_2, ... x_N$ are the values in the list, and $\\mu$ is the sample average (you can re-use the `mean` function above).  \n",
    "\n",
    "\n",
    "* Test your function(s) with the lists below:\n"
   ]
  },
  {
   "cell_type": "code",
   "execution_count": 16,
   "metadata": {},
   "outputs": [],
   "source": [
    "data1 = list(range(1,100))\n",
    "\n",
    "#Normally Distributed Data:\n",
    "from numpy.random import normal\n",
    "data2 = normal(loc=0,scale=2,size=100) #scale=2 defines the standard deviation as 2"
   ]
  },
  {
   "cell_type": "markdown",
   "metadata": {},
   "source": [
    "# Reading and Writing Files from Python\n",
    "\n",
    "## Packages\n",
    "\n",
    "### Installation\n",
    "\n",
    "Packages provide additional tools and functions not present in base Python.  Python includes a number of packages to start with, and others can be installed using `pip install <package name>` and/or `conda install <package name>` commands **in your terminal**. \n",
    "\n",
    "Open your terminal by:\n",
    "* (PC) Start > Anaconda3(64-bit) > Anaconda Prompt\n",
    "* (Mac) Finder > Applications > Anaconda Navigator > Environments Tab > (play button listed next to \"root\") > Open Terminal\n",
    "\n",
    "### Loading\n",
    "\n",
    "Once you've installed a package, you can load it into your current Python session with the `import` function.  Otherwise these functions will not be available."
   ]
  },
  {
   "cell_type": "code",
   "execution_count": 17,
   "metadata": {
    "scrolled": true
   },
   "outputs": [],
   "source": [
    "import os #functions for working with your operating system"
   ]
  },
  {
   "cell_type": "markdown",
   "metadata": {},
   "source": [
    "## Working Directories\n",
    "\n",
    "To open a file with Python, you'll need to tell your computer where it's located on your computer.  You can specify the entire absolute filepath (starting with C:\\ on PC or / on Mac), or you can set a working directory and work with relative file paths. \n",
    "\n",
    "You can determine where a file is located on your computer by:\n",
    "\n",
    "* (PC) Navigate to your desired folder in Windows Explorer and click on it.  Click in the address bar at the top of the window to copy the path.\n",
    "* (Mac) Right-click a file in your desired directory > Click Get Info > Highlight and copy the path listed next to \"Where:\"\n",
    "\n",
    "If a file is located in your working directory, its relative path is just the name of the file!"
   ]
  },
  {
   "cell_type": "code",
   "execution_count": 18,
   "metadata": {},
   "outputs": [
    {
     "data": {
      "text/plain": [
       "True"
      ]
     },
     "execution_count": 18,
     "metadata": {},
     "output_type": "execute_result"
    }
   ],
   "source": [
    "myfile=\"C:/Users/mtjansen/Desktop/Python/Python2/Python_Sales/day1.txt\" #absolute path\n",
    "os.path.isfile(myfile) #check if Python can find my file "
   ]
  },
  {
   "cell_type": "markdown",
   "metadata": {},
   "source": [
    "#### Windows Paths\n",
    "Windows filepaths use `\\`, which Python interprets as *escape characters*.  This can be fixed in several ways:\n",
    "1. Replace `\\` with `/`.\n",
    "2. Replace `\\` with `\\\\`.\n",
    "3. Preface your path with `r`: \n",
    "```\n",
    "        r\"C:\\Users\\mtjansen\\Desktop\"\n",
    "```"
   ]
  },
  {
   "cell_type": "code",
   "execution_count": 19,
   "metadata": {},
   "outputs": [
    {
     "data": {
      "text/plain": [
       "True"
      ]
     },
     "execution_count": 19,
     "metadata": {},
     "output_type": "execute_result"
    }
   ],
   "source": [
    "os.chdir(\"C:/Users/mtjansen/Desktop/Python/Python2/Python_Sales\") #set working directory\n",
    "myfile=\"day1.txt\" #relative path\n",
    "os.path.isfile(myfile)"
   ]
  },
  {
   "cell_type": "markdown",
   "metadata": {},
   "source": [
    "We can get a list of all files in the working directory with `os.listdir(\".\")`."
   ]
  },
  {
   "cell_type": "code",
   "execution_count": 20,
   "metadata": {},
   "outputs": [
    {
     "name": "stdout",
     "output_type": "stream",
     "text": [
      "['Day1.txt', 'Day1_TOTAL.txt', 'Day2.txt', 'Day3.txt', 'Python_Sales.zip']\n",
      "['Day1.txt', 'Day1_TOTAL.txt', 'Day2.txt', 'Day3.txt', 'Python_Sales.zip']\n"
     ]
    }
   ],
   "source": [
    "print(os.listdir(\".\"))\n",
    "print(os.listdir(\"C:/Users/mtjansen/Desktop/Python/Python2/Python_Sales\")) #alternatively we can specify a folder"
   ]
  },
  {
   "cell_type": "markdown",
   "metadata": {},
   "source": [
    "<center>\n",
    "<h3>Exercise</h3>\n",
    "</center>\n",
    "\n",
    "* Download the zipped data availalble [here](https://github.com/UNC-Libraries-data/Python/raw/master/Python2/Python_Sales/Python_Sales.zip). Unzip them somewhere on your computer.\n",
    "\n",
    "* Use `import os` and `os.chdir` to set your working directory to the unzipped folder \"Python Sales\".  Use `os.listdir` to check what files are stored there.\n",
    "\n",
    "\n",
    "## Reading and Writing Files\n",
    "\n",
    "Python requires you both open and close files explicitly.  If you forget to close a file, it can remain in use, preventing you from opening it later.\n",
    "\n",
    "Best practices for reading and writing files use the `with` function to make sure files are automatically closed."
   ]
  },
  {
   "cell_type": "code",
   "execution_count": 21,
   "metadata": {},
   "outputs": [
    {
     "name": "stdout",
     "output_type": "stream",
     "text": [
      "19.6\n",
      "60.6\n",
      "67.9\n",
      "76.9\n",
      "44.6\n",
      "61.4\n",
      "39.5\n",
      "42.7\n",
      "48\n",
      "58.9\n"
     ]
    }
   ],
   "source": [
    "with open('Day1.txt',\"r\") as txtfile: #\"r\" indicates that we are reading the textfile and not writing to it\n",
    "    raw=txtfile.read() #read() retrieves raw text information from the file opened in txtfile\n",
    "    \n",
    "print(raw)"
   ]
  },
  {
   "cell_type": "code",
   "execution_count": 22,
   "metadata": {},
   "outputs": [
    {
     "name": "stdout",
     "output_type": "stream",
     "text": [
      "['19.6', '60.6', '67.9', '76.9', '44.6', '61.4', '39.5', '42.7', '48', '58.9']\n"
     ]
    }
   ],
   "source": [
    "rawlist=raw.splitlines() #.splitlines() uses each new line to split the string into a list\n",
    "print(rawlist)"
   ]
  },
  {
   "cell_type": "code",
   "execution_count": 23,
   "metadata": {},
   "outputs": [
    {
     "name": "stdout",
     "output_type": "stream",
     "text": [
      "520.1\n"
     ]
    }
   ],
   "source": [
    "total=0\n",
    "for item in rawlist:\n",
    "    n=float(item) #convert strings to decimal numbers (i.e. floats)\n",
    "    total=total+n\n",
    "print(total)"
   ]
  },
  {
   "cell_type": "markdown",
   "metadata": {},
   "source": [
    "Let's write a new file with the total."
   ]
  },
  {
   "cell_type": "code",
   "execution_count": 24,
   "metadata": {},
   "outputs": [],
   "source": [
    "total=str(total) #we need to convert numerics to strings before writing\n",
    "with open(\"Day1_TOTAL.txt\",\"w\") as txtfile: #like \"r\" above, \"w\" specifies that we're writing to the file\n",
    "    txtfile.write(total)"
   ]
  },
  {
   "cell_type": "markdown",
   "metadata": {},
   "source": [
    "<center>\n",
    "<h3>Exercises</h3>\n",
    "</center>\n",
    "\n",
    "* Use a loop to extend the above to get the total for each of the three files, Day1.txt, Day2.txt, and Day3.txt. Create a new file that contains the overall total.  There shouldn't be any sales over 100, so if you find any exclude them!"
   ]
  },
  {
   "cell_type": "markdown",
   "metadata": {},
   "source": [
    "# Running Scripts\n",
    "\n",
    "We can save our Python code into .py files with File>Save As in Spyder.  A .py file is just a simple text file with a special extension to remind you that it contains Python code.\n",
    "\n",
    "We can re-open these files in Spyder with File>Open, and then run or change them.\n",
    "\n",
    "### From the terminal\n",
    "We can also run Python scripts directly from the Anaconda Prompt.\n",
    "\n",
    "Open your Anaconda Prompt / Anaconda Terminal by:\n",
    "* (PC) Start > Anaconda3(64-bit) > Anaconda Prompt\n",
    "* (Mac) Finder > Applications > Anaconda Navigator > Environments Tab > (play button listed next to \"root\") > Open Terminal\n",
    "\n",
    "Download [file_explore.py](https://github.com/UNC-Libraries-data/Python/raw/master/Python2/file_explore.py)\n",
    "\n",
    "First, we need to point our terminal at the folder containing our .py file.  In the command prompt type: `cd` followed by the path to the folder.\n",
    "\n",
    "For example:\n",
    "\n",
    "    `cd C:\\Users\\mtjansen\\Desktop\\Python\\Python2`  \n",
    "\n",
    "Then we can execute the script with:\n",
    "\n",
    "    `python file_explore.py`\n",
    "\n",
    "<center>\n",
    "<h3>Exercises</h3>\n",
    "</center>\n",
    "\n",
    "* What happens when you execute file_explore.py?  Can you think in pseudocode about how the script might work?\n",
    "* Use Spyder to open file_explore.py.  Add comments to describe what's happening in each part of the code.  Use a web search or `help()` to get more information about any functions you don't recognize."
   ]
  },
  {
   "cell_type": "markdown",
   "metadata": {},
   "source": [
    "# Useful Packages\n",
    "\n",
    "Some of these packages may NOT be included in your Anaconda installation.  Whenever you need to install a package, you need to use the Anaconda prompt window, **NOT Python itself**.  The Anaconda Prompt window can be reached through the Windows Start Menu folder for Anaconda or right clicking and opening a terminal from the Python 3 tab in your Evnironments tab of your Anaconda Navigator on a Mac.\n",
    "\n",
    "Installing packages known to Anaconda can be done with the `conda install <package name>` command in your Anaconda Prompt window.  Otherwise you may need to use a different manager like `pip install <package name>`.\n",
    "\n",
    "<a href=\"https://conda.io/docs/user-guide/tasks/manage-pkgs.html\">More information about managing packages in Python is available here.</a>\n",
    "\n",
    "You can also <a href=\"https://docs.anaconda.com/anaconda/navigator/tutorials/manage-packages/\">install packages from the Anaconda Navigator window</a>."
   ]
  },
  {
   "cell_type": "markdown",
   "metadata": {
    "collapsed": true
   },
   "source": [
    "\n",
    "## Data Analysis\n",
    "\n",
    "### Numpy and Scipy\n",
    "\n",
    "<a href=\"http://www.numpy.org/\">`numpy`</a> provides the mathematical functionality (e.g. large arrayes, linear algebra, random numbers, etc.) for many popular statistical and machine learning tasks in Python.  This is a dependency for many of the packages we discuss below.  <a href=\"https://docs.scipy.org/doc/scipy/reference/\">`scipy`</a> adds an array of mathematical and statistical functions that work with `numpy` objects. \n",
    "\n",
    "### pandas \n",
    "\n",
    "The <a href=\"https://pandas.pydata.org/\"> `pandas` package</a> provides high-level data manipulation functionality, similar to that found by default in R.  That means new objects like data frames and time series, as well as new functions to manage missing values, merge, and/or reshape datasets.\n",
    "\n",
    "Notice that we load pandas with the usual `import pandas` and an extra `as pd` statement.  This allows us to call functions from `pandas` with `pd.<function>` instead of `pandas.<function>` for convenience.  `as pd` is not necessary to load the package. \n",
    "\n",
    "Download the csv file <a href=\"https://github.com/UNC-Libraries-data/Python/raw/master/Python2/CountyHealthData_2014-2015.csv\"> \n",
    "CountyHealthData_2014-2015.csv</a>.  I've stored my copy in the Python2 folder inside my Python folder on my desktop.\n",
    "\n",
    "`pd.read_csv` reads the tabular data from a Comma Separated Values (csv) file into a `DataFrame` object."
   ]
  },
  {
   "cell_type": "code",
   "execution_count": 25,
   "metadata": {},
   "outputs": [],
   "source": [
    "import pandas as pd \n",
    "os.chdir(\"C:/Users/mtjansen/Desktop/Python/Python2\") #change this to match your path\n",
    "\n",
    "df = pd.read_csv(\"CountyHealthData_2014-2015.csv\")\n",
    "#df = pd.read_csv(\"C:/Users/mtjansen/Desktop/Python/Python2/CountyHealthData_2014-2015.csv\")"
   ]
  },
  {
   "cell_type": "markdown",
   "metadata": {},
   "source": [
    "**Learn more:**\n",
    "* `pandas` provides a quick introduction <a href=\"https://pandas.pydata.org/pandas-docs/stable/10min.html\">here</a>\n",
    "* <a href=\"https://jakevdp.github.io/PythonDataScienceHandbook/\">Python Data Science Handbook</a> provides more detail and integration with other software.\n",
    "\n",
    "### Matplotlib and Visualization\n",
    "\n",
    "<a href=\"https://matplotlib.org/\">`matplotlib`</a> is a commonly used data visualization package for Python, oriented towards static, scientific plotting.  There are a number of other packages for visualization including:\n",
    "\n",
    "* `seaborn` provides aesthetic extensions to matplotlib and better compatibility with pandas\n",
    "* `ggplot` - a Python version of the popular ggplot2 package for R\n",
    "* `Bokeh` and `Plotly` help create interactive web visualizations\n",
    "\n",
    "Here's an example `seaborn` plot with our County Health Data from above:"
   ]
  },
  {
   "cell_type": "code",
   "execution_count": 26,
   "metadata": {},
   "outputs": [
    {
     "data": {
      "image/png": "[encoded data removed]",
      "text/plain": [
       "<Figure size 805.25x720 with 20 Axes>"
      ]
     },
     "metadata": {
      "needs_background": "light"
     },
     "output_type": "display_data"
    }
   ],
   "source": [
    "import seaborn as sns\n",
    "import matplotlib.pyplot as plt\n",
    "\n",
    "states=df.groupby([\"State\",\"Region\"]).mean().reset_index()  #aggregate data to state-level means using DataFrame methods\n",
    "states=states[[\"Region\",\"Poor or fair health\",\"Poor physical health days\",\"Poor mental health days\",\"Median household income\"]]\n",
    "\n",
    "%matplotlib inline\n",
    "sns.pairplot(states,hue=\"Region\")\n",
    "plt.show()"
   ]
  },
  {
   "cell_type": "markdown",
   "metadata": {},
   "source": [
    "## Other Areas\n",
    "\n",
    "### BeautifulSoup (for parsing HTML or XML data)\n",
    "\n",
    "Python's built-in `urllib.request` package makes it relatively easy to download the underlying html from a web page. Note that the `from package import function` notation used here allows you to selectively import only parts of a package as needed."
   ]
  },
  {
   "cell_type": "code",
   "execution_count": 27,
   "metadata": {},
   "outputs": [
    {
     "name": "stdout",
     "output_type": "stream",
     "text": [
      "b'<!DOCTYPE html>\\n<html>\\n<head><meta charset=\"utf-8\" />\\n\\n<title>Python-1</title>\\n\\n<script src=\"https://cdnjs.cloudflare.com/ajax/libs/require.js/2.1.10/require.min.js\"></script>\\n<script src=\"https://cdnjs.cloudflare.com/ajax/libs/jquery/2.0.3/jquery.min.js\"></script>\\n\\n\\n\\n<style type=\"text/css\">\\n    /*!'\n"
     ]
    }
   ],
   "source": [
    "from urllib.request import urlopen\n",
    "from bs4 import BeautifulSoup\n",
    "page = urlopen(\"https://unc-libraries-data.github.io/Python/Python1/Python-1.html\")  #The Python 1 materials!\n",
    "html = page.read()\n",
    "print(html[:300]) #print only the first 300 characters"
   ]
  },
  {
   "cell_type": "code",
   "execution_count": 28,
   "metadata": {},
   "outputs": [
    {
     "data": {
      "text/plain": [
       "['Python I',\n",
       " '0. Setup',\n",
       " '1. Entering code',\n",
       " '2. Variables',\n",
       " '3. Conditionals',\n",
       " '4. Loops']"
      ]
     },
     "execution_count": 28,
     "metadata": {},
     "output_type": "execute_result"
    }
   ],
   "source": [
    "soup=BeautifulSoup(html,\"html.parser\")\n",
    "[x.text for x in soup.find_all(\"h1\")] # find all h1 (top-level headers)"
   ]
  },
  {
   "cell_type": "markdown",
   "metadata": {},
   "source": [
    "**Note:** Always check a site's Terms of Service before scraping it.  Some sites explicitly prohibit web scraping of their data.\n",
    "\n",
    "### NLTK (text analysis)\n",
    "\n",
    "<a href=\"http://www.nltk.org/\">The Natural Language Toolkit (`nltk`)</a> provides a wide array of tools for processing and analyzing text.  This includes operations like splitting text into sentences or words (\"tokenization\"), tagging them with their part of speech, classification, and more.\n",
    "\n",
    "## Jupyter Notebooks\n",
    "\n",
    "Sooner or later, you'll want to share your code or projects with other people (even if only future-you!).  <a href=\"http://jupyter.org/\">Jupyter notebooks</a>, included with Anaconda, provide integration between code, its output, images, and formatted text beyond what's possible with in-code comments.  The materials for these workshops were created in Jupyter notebooks, then exported to html.\n",
    "\n",
    "## GitHub\n",
    "\n",
    "The materials for this workshop series are maintained in Git and hosted on GitHub.  The materials from our Git / GitHub workshop are available [here](https://github.com/UNC-Libraries-data/Intro-to-Git).\n",
    "\n",
    "## Feedback\n",
    "\n",
    "Please fill out our [**Feedback Survey**](http://unc.libsurveys.com/davishubfeedback).\n",
    "\n",
    "We'd love your input on future workshop topics and ways we could improve this workshop next time we teach it!"
   ]
  },
  {
   "cell_type": "markdown",
   "metadata": {},
   "source": [
    "## Resources / Learn more:\n",
    "\n",
    "* <a href=\"https://jakevdp.github.io/PythonDataScienceHandbook/\">Python Data Science Handbook</a>  This free ebook emphasizes Numpy, Scipy, Matplotlib, Pandas and other data analysis packages in Python, assuming some familiarity with the basic principles of the language.\n",
    "\n",
    "* <a href=\"https://automatetheboringstuff.com/\">Automate the Boring Stuff with Python</a>\n",
    "\n",
    "* <a href=\"https://ehmatthes.github.io/pcc/cheatsheets/README.html\">Python Cheatsheets</a>\n",
    "\n",
    "* <a href=\"https://stackoverflow.com/questions/tagged/python-3.x?sort=frequent&pageSize=15\">Stack Overflow</a>\n",
    "\n",
    "* <a href=\"https://www.google.com/\">Google!</a>\n",
    "\n",
    "* <a href=\"http://guides.lib.unc.edu/mattjansen\">Make an appointment with Matt</a>\n",
    "\n",
    "* <a href=\"http://www.karsdorp.io/python-course/\">Python Programming for the Humanities</a>\n",
    "\n"
   ]
  }
 ],
 "metadata": {
  "kernelspec": {
   "display_name": "Python 3",
   "language": "python",
   "name": "python3"
  },
  "language_info": {
   "codemirror_mode": {
    "name": "ipython",
    "version": 3
   },
   "file_extension": ".py",
   "mimetype": "text/x-python",
   "name": "python",
   "nbconvert_exporter": "python",
   "pygments_lexer": "ipython3",
   "version": "3.7.0"
  }
 },
 "nbformat": 4,
 "nbformat_minor": 2
}
