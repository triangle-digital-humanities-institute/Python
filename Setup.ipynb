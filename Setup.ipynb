{
 "cells": [
  {
   "cell_type": "markdown",
   "metadata": {},
   "source": [
    "<center> <h1>Setup</h1> </center>\n",
    "\n",
    "If you use macOS or Linux, then you most likely already have Python on your computer!  Python does not come with Windows, but it may be on your machine as part of other software (e.g. ArcGIS Desktop).\n",
    "\n",
    "### Why not work with an existing installation?\n",
    "\n",
    "Unless you've worked with Python already, your pre-existing installation may only include the bare minimum and may be an out of date version.  Therefore, we recommend installing a distribution, with Python and many useful add-ons already setup, for all operating systems.\n",
    "\n",
    "## Anaconda distribution\n",
    "\n",
    "Anaconda packages the current version of Python 2 or 3 with over 150 packages included in the installation and supports hundreds of others.  This includes many of the most heavily used packages supporting data transformation and analysis, and software to manage and add new packages, create virtual environments, and more.\n",
    "\n",
    "[Read more here](https://docs.anaconda.com/anaconda/packages/pkg-docs)\n",
    "    \n",
    "[Download Anaconda Python 3.7, 64-bit](https://www.anaconda.com/download/)\n",
    "\n",
    "![Download](https://github.com/UNC-Libraries-data/Python/raw/master/Python1/images/Conda_dl.png)\n",
    "\n",
    "####  PATH Variables and Default Installation\n",
    "\n",
    "In most cases, it is best to leave the default settings for installation. \n",
    "\n",
    "![Anaconda_install_settings.png](https://github.com/UNC-Libraries-data/Python/raw/master/Python1/images/Anaconda_install_settings.png)\n",
    "\n",
    "1. **PATH**\n",
    "\n",
    "  * Do not add Anaconda to your PATH variable.\n",
    "  \n",
    "2. **Registering Python**\n",
    "\n",
    "  * If you are installing Python for the first time, select \"Register Anaconda as the system Python\"\n",
    "\n",
    "  * If you have Python-dependent software (e.g. ArcGIS, CAD software, etc), do not check \"Register Anaconda as the system Python\" or it may cause issues with your other programs.\n",
    "    + If you're unsure, open your PC's Command Line (Start>Windows System>Command Prompt) or Mac's Terminal (Applications>Utilities>Terminal) and type `python` and press Enter.  If you already have Python you should see something like the image below - do not check Register Anaconda as the system Python.\n",
    "    \n",
    "  ![Command Prompt Python](https://github.com/UNC-Libraries-data/Python/raw/master/Python1/images/Test_CMD.png)\n",
    "\n",
    "\n",
    "3. **Visual Studio Code**\n",
    "\n",
    "  * **Skip** installing Microsoft VSCode.\n",
    "  \n",
    "**<font color=red>Note:</font>** \n",
    "If you would like to use Python for the duration of this workshop without downloading anything (or have problems downloading Anaconda), we recommend using [pyfiddle.io](https://pyfiddle.io/).  Make sure you set Python version to 3.6 on the left side of the screen.\n",
    "\n",
    "If you would like to save your work and continue to use Python on your computer, we recommend downloading Anaconda. \n",
    "\n",
    "   * Please install Anaconda following the instructions in [Setup](../Setup.html)  **before** the workshop if possible.\n",
    "   * If you haven't already installed Anaconda, please begin downloading the [Anaconda distribution of Python](https://www.anaconda.com/download/) as soon as possible.  It's a large download and can be slow to download over wifi.  If needed, we also have a limited number of thumb drives with the Anaconda installers.  Please flag one of the staff if you need to copy the installer.\n",
    "\n"
   ]
  },
  {
   "cell_type": "code",
   "execution_count": null,
   "metadata": {},
   "outputs": [],
   "source": []
  }
 ],
 "metadata": {
  "kernelspec": {
   "display_name": "Python 3",
   "language": "python",
   "name": "python3"
  },
  "language_info": {
   "codemirror_mode": {
    "name": "ipython",
    "version": 3
   },
   "file_extension": ".py",
   "mimetype": "text/x-python",
   "name": "python",
   "nbconvert_exporter": "python",
   "pygments_lexer": "ipython3",
   "version": "3.7.0"
  }
 },
 "nbformat": 4,
 "nbformat_minor": 2
}
